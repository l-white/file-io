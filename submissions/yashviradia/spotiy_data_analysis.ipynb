{
 "cells": [
  {
   "cell_type": "code",
   "execution_count": null,
   "id": "c973ea02",
   "metadata": {},
   "outputs": [],
   "source": []
  },
  {
   "cell_type": "code",
   "execution_count": 1,
   "id": "c187401a",
   "metadata": {},
   "outputs": [],
   "source": [
    "import pandas as pd"
   ]
  },
  {
   "cell_type": "code",
   "execution_count": 3,
   "id": "184770df",
   "metadata": {},
   "outputs": [],
   "source": [
    "spotify_data = pd.read_csv('spotify-2023.csv')"
   ]
  },
  {
   "cell_type": "code",
   "execution_count": 4,
   "id": "7f43f964",
   "metadata": {},
   "outputs": [
    {
     "name": "stdout",
     "output_type": "stream",
     "text": [
      "953\n"
     ]
    }
   ],
   "source": [
    "print(len(spotify_data))"
   ]
  },
  {
   "cell_type": "code",
   "execution_count": 5,
   "id": "3875bad6",
   "metadata": {},
   "outputs": [
    {
     "name": "stdout",
     "output_type": "stream",
     "text": [
      "                            track_name    artist(s)_name  artist_count  \\\n",
      "0  Seven (feat. Latto) (Explicit Ver.)  Latto, Jung Kook             2   \n",
      "1                                 LALA       Myke Towers             1   \n",
      "2                              vampire    Olivia Rodrigo             1   \n",
      "3                         Cruel Summer      Taylor Swift             1   \n",
      "4                       WHERE SHE GOES         Bad Bunny             1   \n",
      "\n",
      "   released_year  released_month  released_day  in_spotify_playlists  \\\n",
      "0           2023               7            14                   553   \n",
      "1           2023               3            23                  1474   \n",
      "2           2023               6            30                  1397   \n",
      "3           2019               8            23                  7858   \n",
      "4           2023               5            18                  3133   \n",
      "\n",
      "   in_spotify_charts    streams  in_apple_playlists  ...  bpm key   mode  \\\n",
      "0                147  141381703                  43  ...  125   B  Major   \n",
      "1                 48  133716286                  48  ...   92  C#  Major   \n",
      "2                113  140003974                  94  ...  138   F  Major   \n",
      "3                100  800840817                 116  ...  170   A  Major   \n",
      "4                 50  303236322                  84  ...  144   A  Minor   \n",
      "\n",
      "  danceability_%  valence_% energy_% acousticness_%  instrumentalness_%  \\\n",
      "0             80         89       83             31                   0   \n",
      "1             71         61       74              7                   0   \n",
      "2             51         32       53             17                   0   \n",
      "3             55         58       72             11                   0   \n",
      "4             65         23       80             14                  63   \n",
      "\n",
      "   liveness_%  speechiness_%  \n",
      "0           8              4  \n",
      "1          10              4  \n",
      "2          31              6  \n",
      "3          11             15  \n",
      "4          11              6  \n",
      "\n",
      "[5 rows x 24 columns]\n"
     ]
    }
   ],
   "source": [
    "print(spotify_data.head())"
   ]
  },
  {
   "cell_type": "code",
   "execution_count": 7,
   "id": "46917f1d",
   "metadata": {},
   "outputs": [
    {
     "name": "stdout",
     "output_type": "stream",
     "text": [
      "                                track_name                  artist(s)_name  \\\n",
      "33                               Anti-Hero                    Taylor Swift   \n",
      "34                                     TQG                Karol G, Shakira   \n",
      "54                            Another Love                       Tom Odell   \n",
      "76                            Here With Me                            d4vd   \n",
      "103                            Mockingbird                          Eminem   \n",
      "..                                     ...                             ...   \n",
      "921                                   Nxde                        (G)I-DLE   \n",
      "932  Pussy & Millions (feat. Travis Scott)  Drake, Travis Scott, 21 Savage   \n",
      "933                         Vigilante Shit                    Taylor Swift   \n",
      "936                             Mastermind                    Taylor Swift   \n",
      "952                                  Alone                       Burna Boy   \n",
      "\n",
      "     artist_count  released_year  released_month  released_day  \\\n",
      "33              1           2022              10            21   \n",
      "34              2           2023               2            23   \n",
      "54              1           2012              10            15   \n",
      "76              1           2022               7            17   \n",
      "103             1           2004               1             1   \n",
      "..            ...            ...             ...           ...   \n",
      "921             1           2022              10            17   \n",
      "932             3           2022              11             4   \n",
      "933             1           2022              10            21   \n",
      "936             1           2022              10            21   \n",
      "952             1           2022              11             4   \n",
      "\n",
      "     in_spotify_playlists  in_spotify_charts     streams  in_apple_playlists  \\\n",
      "33                   9082                 56   999748277                 242   \n",
      "34                   4284                 49   618990393                 115   \n",
      "54                  18371                 83  1813673666                 250   \n",
      "76                   3246                 23   635412045                  94   \n",
      "103                 12985                 61  1241559043                  49   \n",
      "..                    ...                ...         ...                 ...   \n",
      "921                   430                  6   170709584                  14   \n",
      "932                  1930                  0   191333656                  24   \n",
      "933                  1948                  0   253650850                  12   \n",
      "936                  1936                  0   218320587                   7   \n",
      "952                   782                  2    96007391                  27   \n",
      "\n",
      "     ...  bpm key   mode danceability_%  valence_% energy_% acousticness_%  \\\n",
      "33   ...   97   E  Major             64         51       63             12   \n",
      "34   ...  180   E  Minor             72         61       63             67   \n",
      "54   ...  123   E  Minor             45         13       54             70   \n",
      "76   ...  132   E  Major             58         27       48             50   \n",
      "103  ...   84   E  Minor             62         24       67             21   \n",
      "..   ...  ...  ..    ...            ...        ...      ...            ...   \n",
      "921  ...  136   E  Minor             73         65       91              4   \n",
      "932  ...  122   E  Minor             75         45       63              6   \n",
      "933  ...   80   E  Minor             80         16       28             17   \n",
      "936  ...  126   E  Major             66         12       35             55   \n",
      "952  ...   90   E  Minor             61         32       67             15   \n",
      "\n",
      "     instrumentalness_%  liveness_%  speechiness_%  \n",
      "33                    0          19              5  \n",
      "34                    0           9             28  \n",
      "54                    0           9              4  \n",
      "76                    0          12              3  \n",
      "103                   0          13             28  \n",
      "..                  ...         ...            ...  \n",
      "921                   0          48             18  \n",
      "932                   0          35             12  \n",
      "933                   0          12             39  \n",
      "936                   0           9             14  \n",
      "952                   0          11              5  \n",
      "\n",
      "[62 rows x 24 columns]\n"
     ]
    }
   ],
   "source": [
    "e_key_songs = spotify_data[spotify_data['key'] == 'E']\n",
    "print(e_key_songs)"
   ]
  },
  {
   "cell_type": "code",
   "execution_count": 8,
   "id": "7f8facf5",
   "metadata": {},
   "outputs": [
    {
     "name": "stdout",
     "output_type": "stream",
     "text": [
      "62\n"
     ]
    }
   ],
   "source": [
    "print(len(e_key_songs))"
   ]
  },
  {
   "cell_type": "code",
   "execution_count": 9,
   "id": "22d244ac",
   "metadata": {},
   "outputs": [],
   "source": [
    "song_count_by_year = spotify_data['released_year'].value_counts()\n",
    "year_with_most_songs = song_count_by_year.idxmax()"
   ]
  },
  {
   "cell_type": "code",
   "execution_count": 10,
   "id": "48b1ab4f",
   "metadata": {},
   "outputs": [
    {
     "name": "stdout",
     "output_type": "stream",
     "text": [
      "released_year\n",
      "2022    402\n",
      "2023    175\n",
      "2021    119\n",
      "2020     37\n",
      "2019     36\n",
      "2017     23\n",
      "2016     18\n",
      "2014     13\n",
      "2013     13\n",
      "2015     11\n",
      "2018     10\n",
      "2012     10\n",
      "2011     10\n",
      "2010      7\n",
      "2002      6\n",
      "1999      5\n",
      "1984      4\n",
      "2000      4\n",
      "2004      4\n",
      "1963      3\n",
      "1958      3\n",
      "1995      2\n",
      "1970      2\n",
      "1959      2\n",
      "1985      2\n",
      "1957      2\n",
      "1986      2\n",
      "2003      2\n",
      "1991      2\n",
      "2008      2\n",
      "1975      2\n",
      "1982      2\n",
      "1946      1\n",
      "2005      1\n",
      "1942      1\n",
      "1996      1\n",
      "1998      1\n",
      "1950      1\n",
      "1979      1\n",
      "2007      1\n",
      "1952      1\n",
      "1971      1\n",
      "1994      1\n",
      "1930      1\n",
      "1973      1\n",
      "1997      1\n",
      "1968      1\n",
      "1992      1\n",
      "1983      1\n",
      "1987      1\n",
      "Name: count, dtype: int64\n"
     ]
    }
   ],
   "source": [
    "print(song_count_by_year)"
   ]
  },
  {
   "cell_type": "code",
   "execution_count": 11,
   "id": "423d74dd",
   "metadata": {},
   "outputs": [
    {
     "name": "stdout",
     "output_type": "stream",
     "text": [
      "2022\n"
     ]
    }
   ],
   "source": [
    "print(year_with_most_songs)"
   ]
  },
  {
   "cell_type": "code",
   "execution_count": null,
   "id": "675f43db",
   "metadata": {},
   "outputs": [],
   "source": []
  }
 ],
 "metadata": {
  "kernelspec": {
   "display_name": "Python 3 (ipykernel)",
   "language": "python",
   "name": "python3"
  },
  "language_info": {
   "codemirror_mode": {
    "name": "ipython",
    "version": 3
   },
   "file_extension": ".py",
   "mimetype": "text/x-python",
   "name": "python",
   "nbconvert_exporter": "python",
   "pygments_lexer": "ipython3",
   "version": "3.10.13"
  }
 },
 "nbformat": 4,
 "nbformat_minor": 5
}
