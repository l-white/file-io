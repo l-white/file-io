{
 "cells": [
  {
   "cell_type": "code",
   "execution_count": 7,
   "metadata": {},
   "outputs": [],
   "source": [
    "import pandas as pd \n",
    "\n",
    "df = pd.read_csv('spotify-2023.csv')"
   ]
  },
  {
   "cell_type": "markdown",
   "metadata": {},
   "source": [
    "*Challenge 1*"
   ]
  },
  {
   "cell_type": "code",
   "execution_count": 8,
   "metadata": {},
   "outputs": [
    {
     "data": {
      "text/plain": [
       "943"
      ]
     },
     "execution_count": 8,
     "metadata": {},
     "output_type": "execute_result"
    }
   ],
   "source": [
    "\n",
    "songs_no=df['track_name'].value_counts().count()\n",
    "songs_no"
   ]
  },
  {
   "cell_type": "markdown",
   "metadata": {},
   "source": [
    "*Challenge 2*"
   ]
  },
  {
   "cell_type": "code",
   "execution_count": 9,
   "metadata": {},
   "outputs": [],
   "source": [
    "def key_song(df, key):\n",
    "    df_values = list(df.values)\n",
    "    unique_e = set()\n",
    "    for item in df_values:\n",
    "        if item[1] == key:\n",
    "            unique_e.add((item[0],item[1]))\n",
    "\n",
    "    number_of_song = len(unique_e)\n",
    "    return number_of_song"
   ]
  },
  {
   "cell_type": "code",
   "execution_count": 10,
   "metadata": {},
   "outputs": [
    {
     "data": {
      "text/plain": [
       "62"
      ]
     },
     "execution_count": 10,
     "metadata": {},
     "output_type": "execute_result"
    }
   ],
   "source": [
    "key_song(df[['track_name', 'key']], 'E')"
   ]
  },
  {
   "cell_type": "markdown",
   "metadata": {},
   "source": [
    "*Challenge 3*"
   ]
  },
  {
   "cell_type": "code",
   "execution_count": 14,
   "metadata": {},
   "outputs": [
    {
     "data": {
      "text/plain": [
       "(artist(s)_name\n",
       " Taylor Swift                 34\n",
       " The Weeknd                   22\n",
       " Bad Bunny                    19\n",
       " SZA                          19\n",
       " Harry Styles                 17\n",
       "                              ..\n",
       " Karol G, Ovy On The Drums     1\n",
       " Coolio, L.V.                  1\n",
       " Kordhell                      1\n",
       " Kenia OS                      1\n",
       " Feid, Sech, Jhayco            1\n",
       " Name: count, Length: 645, dtype: int64,\n",
       " 'Taylor Swift')"
      ]
     },
     "execution_count": 14,
     "metadata": {},
     "output_type": "execute_result"
    }
   ],
   "source": [
    "counts = df['artist(s)_name'].value_counts()\n",
    "\n",
    "    # get the most common value (i.e., the one with the highest count)\n",
    "most_common = counts.idxmax()\n",
    "counts,most_common"
   ]
  }
 ],
 "metadata": {
  "kernelspec": {
   "display_name": "Python 3",
   "language": "python",
   "name": "python3"
  },
  "language_info": {
   "codemirror_mode": {
    "name": "ipython",
    "version": 3
   },
   "file_extension": ".py",
   "mimetype": "text/x-python",
   "name": "python",
   "nbconvert_exporter": "python",
   "pygments_lexer": "ipython3",
   "version": "3.11.5"
  }
 },
 "nbformat": 4,
 "nbformat_minor": 2
}
